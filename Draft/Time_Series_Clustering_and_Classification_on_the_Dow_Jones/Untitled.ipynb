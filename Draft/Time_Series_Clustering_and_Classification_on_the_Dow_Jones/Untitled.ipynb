{
 "cells": [
  {
   "cell_type": "code",
   "execution_count": 11,
   "metadata": {},
   "outputs": [],
   "source": [
    "import numpy as np\n",
    "import pandas as pd\n",
    "from pyentrp import entropy as ent\n",
    "from saxpy.znorm import znorm\n",
    "from saxpy.paa import paa\n",
    "from saxpy.sax import ts_to_string\n",
    "from saxpy.alphabet import cuts_for_asize\n",
    "hist_sma = [1, 1, 1, 2, 3, 4, 5]\n",
    "words = [] \n",
    "df=pd.read_csv(\"./stock-time-series-20050101-to-20171231/CAT_2006-01-01_to_2018-01-01.csv\")\n",
    "dow_df = ent.util_pattern_space(df[\"Open\"], lag = 1, dim = 50)\n",
    "dow_df = dow_df[:]\n",
    "for i in range(len(dow_df)):\n",
    "    dat_znorm = znorm(dow_df[i,:])\n",
    "    dat_paa= paa(dat_znorm, 3) #three letter words\n",
    "    word = ts_to_string(dat_paa, cuts_for_asize(2)) # 2 let alphabet\n",
    "    words.append(word)"
   ]
  },
  {
   "cell_type": "code",
   "execution_count": 26,
   "metadata": {},
   "outputs": [
    {
     "name": "stdout",
     "output_type": "stream",
     "text": [
      "Model: \"sequential_10\"\n",
      "_________________________________________________________________\n",
      "Layer (type)                 Output Shape              Param #   \n",
      "=================================================================\n",
      "bidirectional_6 (Bidirection (None, 64)                12544     \n",
      "_________________________________________________________________\n",
      "dense_4 (Dense)              (None, 16)                1040      \n",
      "=================================================================\n",
      "Total params: 13,584\n",
      "Trainable params: 13,584\n",
      "Non-trainable params: 0\n",
      "_________________________________________________________________\n"
     ]
    }
   ],
   "source": [
    "import keras\n",
    "from keras.models import Sequential\n",
    "from keras.layers import Bidirectional\n",
    "from keras.layers import LSTM\n",
    "from keras.layers import Dense\n",
    "from keras.layers import TimeDistributed\n",
    "from keras.optimizers import Adam\n",
    "\n",
    "n_timesteps=100\n",
    "output=16\n",
    "\n",
    "model = Sequential()\n",
    "model.add(Bidirectional(LSTM(32, kernel_initializer = \"he_normal\",return_sequences=False),\n",
    "                           input_shape=(n_timesteps, output)))\n",
    "#model.add(Bidirectional(LSTM(32, return_sequences = False)))                     \n",
    "model.add(Dense(output, activation='softmax'))\n",
    "model.summary()\n",
    "model.compile(loss='categorical_crossentropy', optimizer=Adam(lr=.001), metrics=['acc'])"
   ]
  },
  {
   "cell_type": "code",
   "execution_count": null,
   "metadata": {},
   "outputs": [],
   "source": []
  }
 ],
 "metadata": {
  "kernelspec": {
   "display_name": "Python 3",
   "language": "python",
   "name": "python3"
  },
  "language_info": {
   "codemirror_mode": {
    "name": "ipython",
    "version": 3
   },
   "file_extension": ".py",
   "mimetype": "text/x-python",
   "name": "python",
   "nbconvert_exporter": "python",
   "pygments_lexer": "ipython3",
   "version": "3.7.3"
  }
 },
 "nbformat": 4,
 "nbformat_minor": 2
}
