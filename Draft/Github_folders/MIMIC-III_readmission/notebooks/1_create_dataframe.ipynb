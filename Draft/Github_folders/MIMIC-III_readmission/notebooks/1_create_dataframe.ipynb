{
 "cells": [
  {
   "cell_type": "markdown",
   "metadata": {},
   "source": [
    "## Import data from SQL database"
   ]
  },
  {
   "cell_type": "code",
   "execution_count": 2,
   "metadata": {},
   "outputs": [
    {
     "name": "stderr",
     "output_type": "stream",
     "text": [
      "/home/mohcine/Software/anaconda2/lib/python2.7/site-packages/psycopg2/__init__.py:144: UserWarning: The psycopg2 wheel package will be renamed from release 2.8; in order to keep installing from binary please use \"pip install psycopg2-binary\" instead. For details see: <http://initd.org/psycopg/docs/install.html#binary-install-from-pypi>.\n",
      "  \"\"\")\n"
     ]
    }
   ],
   "source": [
    "# Import libraries\n",
    "import numpy as np\n",
    "import pandas as pd\n",
    "import psycopg2\n",
    "import matplotlib.pyplot as plt\n",
    "\n",
    "%matplotlib inline"
   ]
  },
  {
   "cell_type": "code",
   "execution_count": 5,
   "metadata": {},
   "outputs": [],
   "source": [
    "# create a database connection\n",
    "sqluser = 'postgres'\n",
    "dbname = 'mimic'\n",
    "schema_name = 'mimiciii'\n",
    "\n",
    "# Connect to local postgres version of mimic\n",
    "con = psycopg2.connect(dbname=dbname, user=sqluser)\n",
    "cur = con.cursor()"
   ]
  },
  {
   "cell_type": "code",
   "execution_count": 6,
   "metadata": {
    "collapsed": true
   },
   "outputs": [],
   "source": [
    "# SQL query (gets all_data view defined elsewhere)\n",
    "query = \\\n",
    "\"\"\"\n",
    "select * from all_data\n",
    "\"\"\""
   ]
  },
  {
   "cell_type": "code",
   "execution_count": 7,
   "metadata": {},
   "outputs": [],
   "source": [
    "# Perform SQL query\n",
    "cur.execute('SET search_path to ' + schema_name)\n",
    "data = pd.read_sql_query(query,con)"
   ]
  },
  {
   "cell_type": "code",
   "execution_count": null,
   "metadata": {},
   "outputs": [],
   "source": []
  },
  {
   "cell_type": "markdown",
   "metadata": {},
   "source": [
    "# Preliminary statistics"
   ]
  },
  {
   "cell_type": "code",
   "execution_count": 8,
   "metadata": {},
   "outputs": [
    {
     "data": {
      "text/plain": [
       "(58072, 43)"
      ]
     },
     "execution_count": 8,
     "metadata": {},
     "output_type": "execute_result"
    }
   ],
   "source": [
    "data.shape"
   ]
  },
  {
   "cell_type": "code",
   "execution_count": 9,
   "metadata": {},
   "outputs": [
    {
     "name": "stdout",
     "output_type": "stream",
     "text": [
      "Number of unique patient ids: 34000\n"
     ]
    }
   ],
   "source": [
    "print 'Number of unique patient ids: {}'.format(len(data.subject_id.unique()))"
   ]
  },
  {
   "cell_type": "code",
   "execution_count": 24,
   "metadata": {
    "scrolled": true
   },
   "outputs": [
    {
     "name": "stdout",
     "output_type": "stream",
     "text": [
      "age\n",
      "mean    75.342952\n",
      "std     53.858336\n",
      "Name: age, dtype: float64 \n",
      "\n",
      "age (<300)\n",
      "mean    63.546693\n",
      "std     16.042577\n",
      "Name: age, dtype: float64 \n",
      "\n",
      "sapsii\n",
      "mean    36.884161\n",
      "std     14.472444\n",
      "Name: sapsii, dtype: float64 \n",
      "\n",
      "sofa\n",
      "mean    4.552934\n",
      "std     3.247176\n",
      "Name: sofa, dtype: float64 \n",
      "\n",
      "      urea_n_min  urea_n_mean  urea_n_max\n",
      "mean   16.445421    27.288461   42.126805\n",
      "std    13.301107    18.889476   31.139652 \n",
      "\n",
      "      urea_n_min  urea_n_mean  urea_n_max\n",
      "mean   16.445421    27.288461   42.126805\n",
      "std    13.301107    18.889476   31.139652 \n",
      "\n",
      "      magnesium_max  albumin_min  calcium_min\n",
      "mean       2.501220     2.794285     7.671528\n",
      "std        1.012606     0.756592     0.866263 \n",
      "\n",
      "      resprate_min  resprate_mean  resprate_max\n",
      "mean      9.784419      19.375970     32.970443\n",
      "std       3.725866       3.541496      9.069465 \n",
      "\n",
      "      glucose_min  glucose_mean  glucose_max\n",
      "mean    86.944955    137.754290   270.786049\n",
      "std     30.178530     86.816148  5956.989526 \n",
      "\n",
      "         hr_min    hr_mean      hr_max\n",
      "mean  62.753915  85.771534  118.013864\n",
      "std   14.760035  13.134284   25.498901 \n",
      "\n",
      "      sysbp_min  sysbp_mean   sysbp_max\n",
      "mean  80.000415  120.361155  165.898095\n",
      "std   21.131323   15.594167   29.131282 \n",
      "\n",
      "      diasbp_min  diasbp_mean  diasbp_max\n",
      "mean   35.717432    60.268878   99.832168\n",
      "std    12.311930     9.710963   27.818889 \n",
      "\n",
      "       temp_min  temp_mean   temp_max\n",
      "mean  35.624102  36.849912  37.980062\n",
      "std    0.922504   0.527402   0.884401 \n",
      "\n",
      "      urine_min  urine_mean     urine_max\n",
      "mean  25.872771  126.107318    668.790531\n",
      "std   61.941503  536.707311  19345.358869\n"
     ]
    }
   ],
   "source": [
    "print 'age\\n',data.age.describe().ix[['mean', 'std']],'\\n'\n",
    "print 'age (<300)\\n', data.loc[data.age<300].age.describe().ix[['mean', 'std']], '\\n'\n",
    "print 'sapsii\\n', data.sapsii.describe().ix[['mean', 'std']],'\\n'\n",
    "print 'sofa\\n', data.sofa.describe().ix[['mean', 'std']],'\\n'\n",
    "print data[['urea_n_min','urea_n_mean','urea_n_max',]].describe().ix[['mean', 'std']],'\\n'\n",
    "print data[['urea_n_min','urea_n_mean','urea_n_max',]].describe().ix[['mean', 'std']], '\\n'\n",
    "print data[['magnesium_max','albumin_min','calcium_min']].describe().ix[['mean', 'std']], '\\n'\n",
    "print data[['resprate_min','resprate_mean','resprate_max']].describe().ix[['mean', 'std']], '\\n'\n",
    "print data[['glucose_min','glucose_mean','glucose_max']].describe().ix[['mean', 'std']], '\\n'\n",
    "print data[['hr_min','hr_mean','hr_max']].describe().ix[['mean', 'std']], '\\n'\n",
    "print data[['sysbp_min','sysbp_mean','sysbp_max']].describe().ix[['mean', 'std']], '\\n'\n",
    "print data[['diasbp_min','diasbp_mean','diasbp_max']].describe().ix[['mean', 'std']], '\\n'\n",
    "print data[['temp_min','temp_mean','temp_max']].describe().ix[['mean', 'std']], '\\n'\n",
    "print data[['urine_min','urine_mean','urine_max']].describe().ix[['mean', 'std']]"
   ]
  },
  {
   "cell_type": "code",
   "execution_count": 21,
   "metadata": {},
   "outputs": [
    {
     "data": {
      "image/png": "[encoded data removed]",
      "text/plain": [
       "<matplotlib.figure.Figure at 0xe32f128>"
      ]
     },
     "metadata": {},
     "output_type": "display_data"
    }
   ],
   "source": [
    "fig = plt.figure(figsize=(5,5))\n",
    "data.gender.value_counts().plot.pie(startangle = 90, autopct='%1.1f%%')\n",
    "plt.title('Gender split, raw data')\n",
    "plt.ylabel('')\n",
    "fig.savefig('figures/raw_gender.png')"
   ]
  },
  {
   "cell_type": "code",
   "execution_count": 22,
   "metadata": {},
   "outputs": [
    {
     "data": {
      "image/png": "[encoded data removed]",
      "text/plain": [
       "<matplotlib.figure.Figure at 0xe555f98>"
      ]
     },
     "metadata": {},
     "output_type": "display_data"
    }
   ],
   "source": [
    "fig = plt.figure(figsize=(5,5))\n",
    "data.marital_status.value_counts().plot.pie(startangle = 0, autopct='%1.1f%%')\n",
    "plt.title('Marital status split, raw data')\n",
    "plt.ylabel('')\n",
    "fig.savefig('figures/raw_marital.png')"
   ]
  },
  {
   "cell_type": "code",
   "execution_count": 23,
   "metadata": {},
   "outputs": [
    {
     "data": {
      "image/png": "[encoded data removed]",
      "text/plain": [
       "<matplotlib.figure.Figure at 0xf102c88>"
      ]
     },
     "metadata": {},
     "output_type": "display_data"
    }
   ],
   "source": [
    "fig = plt.figure(figsize=(5,5))\n",
    "data.insurance.value_counts().plot.pie(startangle = 0, autopct='%1.1f%%')\n",
    "plt.title('Insurance provider split, raw data')\n",
    "plt.ylabel('')\n",
    "fig.savefig('figures/raw_insurance.png')"
   ]
  },
  {
   "cell_type": "code",
   "execution_count": 24,
   "metadata": {},
   "outputs": [
    {
     "data": {
      "text/plain": [
       "subject_id            0\n",
       "hadm_id               0\n",
       "admittime             0\n",
       "dischtime             0\n",
       "deathtime         48952\n",
       "first_careunit        0\n",
       "last_careunit         0\n",
       "age                   0\n",
       "gender                0\n",
       "marital_status        0\n",
       "insurance             0\n",
       "urea_n_min           46\n",
       "urea_n_max           46\n",
       "urea_n_mean          46\n",
       "platelets_min        63\n",
       "platelets_max        63\n",
       "platelets_mean       63\n",
       "magnesium_max       451\n",
       "albumin_min       16815\n",
       "calcium_min        1757\n",
       "resprate_min         15\n",
       "resprate_max         15\n",
       "resprate_mean        15\n",
       "glucose_min         354\n",
       "glucose_max         354\n",
       "glucose_mean        354\n",
       "hr_min                2\n",
       "hr_max                2\n",
       "hr_mean               2\n",
       "sysbp_min             8\n",
       "sysbp_max             8\n",
       "sysbp_mean            8\n",
       "diasbp_min            8\n",
       "diasbp_max            8\n",
       "diasbp_mean           8\n",
       "temp_min             88\n",
       "temp_max             88\n",
       "temp_mean            88\n",
       "sapsii                0\n",
       "sofa                  0\n",
       "urine_min            11\n",
       "urine_mean           11\n",
       "urine_max            11\n",
       "dtype: int64"
      ]
     },
     "execution_count": 24,
     "metadata": {},
     "output_type": "execute_result"
    }
   ],
   "source": [
    "np.sum(data.isnull())"
   ]
  },
  {
   "cell_type": "markdown",
   "metadata": {},
   "source": [
    "### Extract readmission time information"
   ]
  },
  {
   "cell_type": "code",
   "execution_count": 25,
   "metadata": {
    "collapsed": true
   },
   "outputs": [],
   "source": [
    "# calculate time delta between subsequent readmissions of the same patient \n",
    "data['readmit_dt'] = np.zeros(data.shape[0])\n",
    "data['next_readmit_dt'] = np.zeros(data.shape[0])\n",
    "data['readmit_last_careunit'] = None\n",
    "\n",
    "for idx in np.arange(1,data.shape[0]):\n",
    "    if data.subject_id[idx] == data.subject_id[idx - 1]:     \n",
    "        prev_disch = data.dischtime[idx-1]\n",
    "        curr_adm = data.admittime[idx]\n",
    "        dt = curr_adm - prev_disch\n",
    "        dt_hrs_calc = np.round(dt.value/3600.0/1e9,2)\n",
    "\n",
    "#         data.set_value(idx,'adm_num',data['adm_num'][idx-1] + 1) \n",
    "        data.set_value(idx,'readmit_dt',dt_hrs_calc)\n",
    "        data.set_value(idx-1,'next_readmit_dt',dt_hrs_calc)\n",
    "        data.set_value(idx,'readmit_last_careunit',data['last_careunit'][idx-1]) \n"
   ]
  },
  {
   "cell_type": "code",
   "execution_count": 26,
   "metadata": {},
   "outputs": [
    {
     "data": {
      "text/plain": [
       "(58072, 46)"
      ]
     },
     "execution_count": 26,
     "metadata": {},
     "output_type": "execute_result"
    }
   ],
   "source": [
    "data.shape"
   ]
  },
  {
   "cell_type": "markdown",
   "metadata": {},
   "source": [
    "### Clean up missing or invalid values"
   ]
  },
  {
   "cell_type": "code",
   "execution_count": 27,
   "metadata": {},
   "outputs": [],
   "source": [
    "data = data.drop(['urine_min','urine_mean','urine_max'], axis = 1) #Too noisy\n",
    "data = data[data.readmit_dt >= 0] #Ignore cases where readmit_dt < 0, which result from duplicate records. \n",
    "data = data.ix[(data.deathtime.isnull())] #Remove cases where the patient died during stay\n",
    "data = data.drop(['deathtime'], axis = 1) # Important to drop before dropna otherwise most of the data is lost\n",
    "data = data.dropna(subset=data.keys()[:-1]).reset_index(drop = True) # Ignore NaN values in readmit_last_careunit"
   ]
  },
  {
   "cell_type": "code",
   "execution_count": 28,
   "metadata": {
    "scrolled": true
   },
   "outputs": [
    {
     "name": "stdout",
     "output_type": "stream",
     "text": [
      "Dataframe shape after removal of invalid values: \n",
      "(21732, 42)\n"
     ]
    }
   ],
   "source": [
    "print 'Dataframe shape after removal of invalid values: \\n{}'.format(data.shape)"
   ]
  },
  {
   "cell_type": "markdown",
   "metadata": {},
   "source": [
    "### Define time threshold and corresponding labels"
   ]
  },
  {
   "cell_type": "code",
   "execution_count": 29,
   "metadata": {
    "collapsed": true
   },
   "outputs": [],
   "source": [
    "# Define threshold in hours\n",
    "threshold = 30*24"
   ]
  },
  {
   "cell_type": "code",
   "execution_count": 30,
   "metadata": {
    "collapsed": true
   },
   "outputs": [],
   "source": [
    "# Define label column based on threshold\n",
    "data['future_readmit'] = None\n",
    "data['future_readmit'] = ['No' if dt == 0.0 else 'Yes' if dt<=threshold else 'No' for dt in data.next_readmit_dt]"
   ]
  },
  {
   "cell_type": "code",
   "execution_count": 31,
   "metadata": {},
   "outputs": [
    {
     "name": "stdout",
     "output_type": "stream",
     "text": [
      "Value counts:\n",
      "No     18706\n",
      "Yes     3026\n",
      "Name: future_readmit, dtype: int64\n",
      "\n",
      "Value proportions:\n",
      "No     0.860758\n",
      "Yes    0.139242\n",
      "Name: future_readmit, dtype: float64\n"
     ]
    }
   ],
   "source": [
    "print 'Value counts:'\n",
    "print data.future_readmit.value_counts()\n",
    "print '\\nValue proportions:'\n",
    "print data.future_readmit.value_counts()/data.shape[0]"
   ]
  },
  {
   "cell_type": "markdown",
   "metadata": {},
   "source": [
    "### Focus on admittions to the MICU:"
   ]
  },
  {
   "cell_type": "code",
   "execution_count": 32,
   "metadata": {},
   "outputs": [],
   "source": [
    "MICU_admits_clean = data.loc[data.first_careunit == 'MICU']"
   ]
  },
  {
   "cell_type": "markdown",
   "metadata": {},
   "source": [
    "A quick look at the label distribution:"
   ]
  },
  {
   "cell_type": "code",
   "execution_count": 33,
   "metadata": {},
   "outputs": [
    {
     "name": "stdout",
     "output_type": "stream",
     "text": [
      "Value counts:\n",
      "No     7611\n",
      "Yes    1183\n",
      "Name: future_readmit, dtype: int64\n",
      "\n",
      "Value proportions:\n",
      "No     0.865476\n",
      "Yes    0.134524\n",
      "Name: future_readmit, dtype: float64\n"
     ]
    }
   ],
   "source": [
    "print 'Value counts:'\n",
    "print MICU_admits_clean.future_readmit.value_counts()\n",
    "print '\\nValue proportions:'\n",
    "print MICU_admits_clean.future_readmit.value_counts()/MICU_admits_clean.shape[0]"
   ]
  },
  {
   "cell_type": "code",
   "execution_count": 34,
   "metadata": {
    "collapsed": true
   },
   "outputs": [],
   "source": [
    "# Save clean dataset to csv\n",
    "MICU_admits_clean.to_csv('MICU_admits_clean.csv', index=False)"
   ]
  },
  {
   "cell_type": "code",
   "execution_count": null,
   "metadata": {
    "collapsed": true
   },
   "outputs": [],
   "source": []
  }
 ],
 "metadata": {
  "anaconda-cloud": {},
  "kernelspec": {
   "display_name": "Python 2",
   "language": "python",
   "name": "python2"
  },
  "language_info": {
   "codemirror_mode": {
    "name": "ipython",
    "version": 2
   },
   "file_extension": ".py",
   "mimetype": "text/x-python",
   "name": "python",
   "nbconvert_exporter": "python",
   "pygments_lexer": "ipython2",
   "version": "2.7.15"
  }
 },
 "nbformat": 4,
 "nbformat_minor": 1
}
